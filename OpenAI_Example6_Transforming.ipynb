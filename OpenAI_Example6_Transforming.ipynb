{
  "nbformat": 4,
  "nbformat_minor": 0,
  "metadata": {
    "colab": {
      "provenance": [],
      "authorship_tag": "ABX9TyMHKv+Ck4LCa8s4Mwi3+xQw",
      "include_colab_link": true
    },
    "kernelspec": {
      "name": "python3",
      "display_name": "Python 3"
    },
    "language_info": {
      "name": "python"
    }
  },
  "cells": [
    {
      "cell_type": "markdown",
      "metadata": {
        "id": "view-in-github",
        "colab_type": "text"
      },
      "source": [
        "<a href=\"https://colab.research.google.com/github/alejandrocuauhtemoc/PrompEngineering/blob/main/OpenAI_Example6_Transforming.ipynb\" target=\"_parent\"><img src=\"https://colab.research.google.com/assets/colab-badge.svg\" alt=\"Open In Colab\"/></a>"
      ]
    },
    {
      "cell_type": "code",
      "execution_count": 61,
      "metadata": {
        "colab": {
          "base_uri": "https://localhost:8080/"
        },
        "id": "Pm6vqdgmuSwL",
        "outputId": "352f5853-f5de-4cd1-919a-8c304c1d4826"
      },
      "outputs": [
        {
          "output_type": "stream",
          "name": "stdout",
          "text": [
            "Requirement already satisfied: openai==0.28 in /usr/local/lib/python3.10/dist-packages (0.28.0)\n",
            "Requirement already satisfied: requests>=2.20 in /usr/local/lib/python3.10/dist-packages (from openai==0.28) (2.31.0)\n",
            "Requirement already satisfied: tqdm in /usr/local/lib/python3.10/dist-packages (from openai==0.28) (4.66.2)\n",
            "Requirement already satisfied: aiohttp in /usr/local/lib/python3.10/dist-packages (from openai==0.28) (3.9.3)\n",
            "Requirement already satisfied: charset-normalizer<4,>=2 in /usr/local/lib/python3.10/dist-packages (from requests>=2.20->openai==0.28) (3.3.2)\n",
            "Requirement already satisfied: idna<4,>=2.5 in /usr/local/lib/python3.10/dist-packages (from requests>=2.20->openai==0.28) (3.6)\n",
            "Requirement already satisfied: urllib3<3,>=1.21.1 in /usr/local/lib/python3.10/dist-packages (from requests>=2.20->openai==0.28) (2.0.7)\n",
            "Requirement already satisfied: certifi>=2017.4.17 in /usr/local/lib/python3.10/dist-packages (from requests>=2.20->openai==0.28) (2024.2.2)\n",
            "Requirement already satisfied: aiosignal>=1.1.2 in /usr/local/lib/python3.10/dist-packages (from aiohttp->openai==0.28) (1.3.1)\n",
            "Requirement already satisfied: attrs>=17.3.0 in /usr/local/lib/python3.10/dist-packages (from aiohttp->openai==0.28) (23.2.0)\n",
            "Requirement already satisfied: frozenlist>=1.1.1 in /usr/local/lib/python3.10/dist-packages (from aiohttp->openai==0.28) (1.4.1)\n",
            "Requirement already satisfied: multidict<7.0,>=4.5 in /usr/local/lib/python3.10/dist-packages (from aiohttp->openai==0.28) (6.0.5)\n",
            "Requirement already satisfied: yarl<2.0,>=1.0 in /usr/local/lib/python3.10/dist-packages (from aiohttp->openai==0.28) (1.9.4)\n",
            "Requirement already satisfied: async-timeout<5.0,>=4.0 in /usr/local/lib/python3.10/dist-packages (from aiohttp->openai==0.28) (4.0.3)\n",
            "Collecting Redlines\n",
            "  Downloading redlines-0.4.2-py3-none-any.whl (8.0 kB)\n",
            "Requirement already satisfied: click<9.0.0,>=8.1.3 in /usr/local/lib/python3.10/dist-packages (from Redlines) (8.1.7)\n",
            "Requirement already satisfied: rich<14.0.0,>=13.3.5 in /usr/local/lib/python3.10/dist-packages (from Redlines) (13.7.1)\n",
            "Collecting rich-click<2.0.0,>=1.6.1 (from Redlines)\n",
            "  Downloading rich_click-1.7.4-py3-none-any.whl (32 kB)\n",
            "Requirement already satisfied: markdown-it-py>=2.2.0 in /usr/local/lib/python3.10/dist-packages (from rich<14.0.0,>=13.3.5->Redlines) (3.0.0)\n",
            "Requirement already satisfied: pygments<3.0.0,>=2.13.0 in /usr/local/lib/python3.10/dist-packages (from rich<14.0.0,>=13.3.5->Redlines) (2.16.1)\n",
            "Requirement already satisfied: typing-extensions in /usr/local/lib/python3.10/dist-packages (from rich-click<2.0.0,>=1.6.1->Redlines) (4.10.0)\n",
            "Requirement already satisfied: mdurl~=0.1 in /usr/local/lib/python3.10/dist-packages (from markdown-it-py>=2.2.0->rich<14.0.0,>=13.3.5->Redlines) (0.1.2)\n",
            "Installing collected packages: rich-click, Redlines\n",
            "Successfully installed Redlines-0.4.2 rich-click-1.7.4\n"
          ]
        }
      ],
      "source": [
        "!pip install openai==0.28\n",
        "!pip install Redlines"
      ]
    },
    {
      "cell_type": "code",
      "source": [
        "import openai\n",
        "from google.colab import userdata\n",
        "openai.api_key  = userdata.get('openai3')"
      ],
      "metadata": {
        "id": "WK7F4betuV8D"
      },
      "execution_count": 39,
      "outputs": []
    },
    {
      "cell_type": "code",
      "source": [
        "def get_completion(prompt, model=\"gpt-3.5-turbo\", temperature=0):\n",
        "    messages = [{\"role\": \"user\", \"content\": prompt}]\n",
        "    response = openai.ChatCompletion.create(\n",
        "        model=model,\n",
        "        messages=messages,\n",
        "        temperature=temperature,\n",
        "    )\n",
        "    return response.choices[0].message[\"content\"]"
      ],
      "metadata": {
        "id": "y8CXzMAHuZL9"
      },
      "execution_count": 40,
      "outputs": []
    },
    {
      "cell_type": "code",
      "source": [
        "prompt = f\"\"\"\n",
        "Translate the following English text to Spanish: \\\n",
        "Hi, I would like to order a blender\n",
        "\"\"\"\n",
        "response = get_completion(prompt)\n",
        "print(response)"
      ],
      "metadata": {
        "colab": {
          "base_uri": "https://localhost:8080/"
        },
        "id": "Ls8e3dyOudzp",
        "outputId": "68d07d9c-8b5b-4fec-8615-a220cf1af0e8"
      },
      "execution_count": 41,
      "outputs": [
        {
          "output_type": "stream",
          "name": "stdout",
          "text": [
            "Hola, me gustaría ordenar una licuadora.\n"
          ]
        }
      ]
    },
    {
      "cell_type": "code",
      "source": [
        "prompt = f\"\"\"\n",
        "Tell me which language this is:\n",
        "```Combien coûte le lampadaire?```\n",
        "\"\"\"\n",
        "response = get_completion(prompt)\n",
        "print(response)"
      ],
      "metadata": {
        "colab": {
          "base_uri": "https://localhost:8080/"
        },
        "id": "PP6xwPIlumko",
        "outputId": "9b1e88e6-2277-4e49-9c88-3faeec151462"
      },
      "execution_count": 42,
      "outputs": [
        {
          "output_type": "stream",
          "name": "stdout",
          "text": [
            "This is French.\n"
          ]
        }
      ]
    },
    {
      "cell_type": "code",
      "source": [
        "prompt = f\"\"\"\n",
        "Translate the following  text to French and Spanish\n",
        "and English pirate: \\\n",
        "```I want to order a basketball```\n",
        "\"\"\"\n",
        "response = get_completion(prompt)\n",
        "print(response)"
      ],
      "metadata": {
        "colab": {
          "base_uri": "https://localhost:8080/"
        },
        "id": "-MNpXzdb2eQL",
        "outputId": "25b6489e-6f11-4d4b-c2f7-ea1982233d8d"
      },
      "execution_count": 43,
      "outputs": [
        {
          "output_type": "stream",
          "name": "stdout",
          "text": [
            "French: ```Je veux commander un ballon de basket```\n",
            "\n",
            "Spanish: ```Quiero ordenar un balón de baloncesto```\n",
            "\n",
            "Pirate English: ```I be wantin' to order a basketball```\n"
          ]
        }
      ]
    },
    {
      "cell_type": "code",
      "source": [],
      "metadata": {
        "id": "P6cm3Wno2exk"
      },
      "execution_count": null,
      "outputs": []
    },
    {
      "cell_type": "markdown",
      "source": [
        "Universal Translator\n",
        "Imagine you are in charge of IT at a large multinational e-commerce company. Users are messaging you with IT issues in all their native languages. Your staff is from all over the world and speaks only their native languages. You need a universal translator!\n",
        "\n"
      ],
      "metadata": {
        "id": "5RedwtOk2oFb"
      }
    },
    {
      "cell_type": "code",
      "source": [
        "prompt = f\"\"\"\n",
        "Translate the following text to Spanish in both the \\\n",
        "formal and informal forms:\n",
        "'Would you like to order a pillow?'\n",
        "\"\"\"\n",
        "response = get_completion(prompt)\n",
        "print(response)"
      ],
      "metadata": {
        "colab": {
          "base_uri": "https://localhost:8080/"
        },
        "id": "Vf_wRAJl2quz",
        "outputId": "56b44af2-733d-4284-fe36-c0686c2d180f"
      },
      "execution_count": 44,
      "outputs": [
        {
          "output_type": "stream",
          "name": "stdout",
          "text": [
            "Formal: ¿Le gustaría ordenar una almohada?\n",
            "Informal: ¿Te gustaría ordenar una almohada?\n"
          ]
        }
      ]
    },
    {
      "cell_type": "code",
      "source": [
        "prompt = f\"\"\"\n",
        "Translate the following text to Spanish in both the \\\n",
        "formal and informal forms:\n",
        "'Would you like to order a pillow?'\n",
        "\"\"\"\n",
        "response = get_completion(prompt)\n",
        "print(response)"
      ],
      "metadata": {
        "colab": {
          "base_uri": "https://localhost:8080/"
        },
        "id": "Y_VD6YLT2yfv",
        "outputId": "48393b72-9ba5-4883-c051-5390d86b20aa"
      },
      "execution_count": 45,
      "outputs": [
        {
          "output_type": "stream",
          "name": "stdout",
          "text": [
            "Formal: ¿Le gustaría ordenar una almohada?\n",
            "Informal: ¿Te gustaría ordenar una almohada?\n"
          ]
        }
      ]
    },
    {
      "cell_type": "code",
      "source": [
        "user_messages = [\n",
        "  \"La performance du système est plus lente que d'habitude.\",  # System performance is slower than normal\n",
        "  \"Mi monitor tiene píxeles que no se iluminan.\",              # My monitor has pixels that are not lighting\n",
        "  \"Il mio mouse non funziona\",                                 # My mouse is not working\n",
        "  \"Mój klawisz Ctrl jest zepsuty\",                             # My keyboard has a broken control key\n",
        "  \"我的屏幕在闪烁\"                                               # My screen is flashing\n",
        "]"
      ],
      "metadata": {
        "id": "R_M3kRhx21t4"
      },
      "execution_count": 46,
      "outputs": []
    },
    {
      "cell_type": "code",
      "source": [
        "for issue in user_messages:\n",
        "    prompt = f\"Tell me what language this is in just one word: ```{issue}```\"\n",
        "    lang = get_completion(prompt)\n",
        "    print(f\"Original message ({lang}): {issue}\")\n",
        "\n",
        "    prompt = f\"\"\"\n",
        "    Translate the following  text to English \\\n",
        "    and Spanish: ```{issue}```\n",
        "    \"\"\"\n",
        "    response = get_completion(prompt)\n",
        "    print(response, \"\\n\")"
      ],
      "metadata": {
        "colab": {
          "base_uri": "https://localhost:8080/"
        },
        "id": "tAPucTzy24wQ",
        "outputId": "a3b0d895-c649-4f82-bdbf-997c81a4b950"
      },
      "execution_count": 48,
      "outputs": [
        {
          "output_type": "stream",
          "name": "stdout",
          "text": [
            "Original message (French): La performance du système est plus lente que d'habitude.\n",
            "English: \"The system performance is slower than usual.\"\n",
            "Spanish: \"El rendimiento del sistema es más lento de lo habitual.\" \n",
            "\n",
            "Original message (Spanish): Mi monitor tiene píxeles que no se iluminan.\n",
            "English: \"My monitor has pixels that do not light up.\"\n",
            "Spanish: \"Mi monitor tiene píxeles que no se iluminan.\" \n",
            "\n",
            "Original message (Italian): Il mio mouse non funziona\n",
            "English: My mouse is not working\n",
            "Spanish: Mi ratón no funciona \n",
            "\n",
            "Original message (Polish): Mój klawisz Ctrl jest zepsuty\n",
            "My Ctrl key is broken\n",
            "Mi tecla Ctrl está rota \n",
            "\n",
            "Original message (Chinese): 我的屏幕在闪烁\n",
            "English: My screen is flickering\n",
            "Spanish: Mi pantalla está parpadeando \n",
            "\n"
          ]
        }
      ]
    },
    {
      "cell_type": "markdown",
      "source": [
        "Tone Transformation\n",
        "Writing can vary based on the intended audience. ChatGPT can produce different tones."
      ],
      "metadata": {
        "id": "xn9E62nW4Dpf"
      }
    },
    {
      "cell_type": "code",
      "source": [
        "prompt = f\"\"\"\n",
        "Translate the following from slang to a business letter:\n",
        "'Dude, This is Joe, check out this spec on this standing lamp.'\n",
        "\"\"\"\n",
        "response = get_completion(prompt)\n",
        "print(response)"
      ],
      "metadata": {
        "colab": {
          "base_uri": "https://localhost:8080/"
        },
        "id": "zbg0mhAQ4EEw",
        "outputId": "651423b7-1b0a-42d0-c824-182b5b37faf5"
      },
      "execution_count": 49,
      "outputs": [
        {
          "output_type": "stream",
          "name": "stdout",
          "text": [
            "Dear Sir/Madam,\n",
            "\n",
            "I am writing to bring to your attention the specifications of a standing lamp that I believe may be of interest to you. \n",
            "\n",
            "Sincerely,\n",
            "Joe\n"
          ]
        }
      ]
    },
    {
      "cell_type": "code",
      "source": [
        "##Format Conversion\n",
        "##ChatGPT can translate between formats. The prompt should describe the input and output formats."
      ],
      "metadata": {
        "id": "-GW5EKFr4G9y"
      },
      "execution_count": 51,
      "outputs": []
    },
    {
      "cell_type": "code",
      "source": [
        "data_json = { \"resturant employees\" :[\n",
        "    {\"name\":\"Shyam\", \"email\":\"shyamjaiswal@gmail.com\"},\n",
        "    {\"name\":\"Bob\", \"email\":\"bob32@gmail.com\"},\n",
        "    {\"name\":\"Jai\", \"email\":\"jai87@gmail.com\"}\n",
        "]}\n",
        "\n",
        "prompt = f\"\"\"\n",
        "Translate the following python dictionary from JSON to an HTML \\\n",
        "table with column headers and title: {data_json}\n",
        "\"\"\"\n",
        "response = get_completion(prompt)\n",
        "print(response)"
      ],
      "metadata": {
        "colab": {
          "base_uri": "https://localhost:8080/"
        },
        "id": "FzqhuOtN4Q9J",
        "outputId": "889c03d8-e0ba-42f5-81e1-c813130cc4f9"
      },
      "execution_count": 62,
      "outputs": [
        {
          "output_type": "stream",
          "name": "stdout",
          "text": [
            "<html>\n",
            "<head>\n",
            "  <title>Restaurant Employees</title>\n",
            "</head>\n",
            "<body>\n",
            "  <table>\n",
            "    <tr>\n",
            "      <th>Name</th>\n",
            "      <th>Email</th>\n",
            "    </tr>\n",
            "    <tr>\n",
            "      <td>Shyam</td>\n",
            "      <td>shyamjaiswal@gmail.com</td>\n",
            "    </tr>\n",
            "    <tr>\n",
            "      <td>Bob</td>\n",
            "      <td>bob32@gmail.com</td>\n",
            "    </tr>\n",
            "    <tr>\n",
            "      <td>Jai</td>\n",
            "      <td>jai87@gmail.com</td>\n",
            "    </tr>\n",
            "  </table>\n",
            "</body>\n",
            "</html>\n"
          ]
        }
      ]
    },
    {
      "cell_type": "code",
      "source": [
        "from IPython.display import display, Markdown, Latex, HTML, JSON\n",
        "display(HTML(response))"
      ],
      "metadata": {
        "colab": {
          "base_uri": "https://localhost:8080/",
          "height": 114
        },
        "id": "W8Zc1nOF4X7k",
        "outputId": "ed66f767-43fe-4f68-ee2d-c5dee8571f7e"
      },
      "execution_count": 53,
      "outputs": [
        {
          "output_type": "display_data",
          "data": {
            "text/plain": [
              "<IPython.core.display.HTML object>"
            ],
            "text/html": [
              "<html>\n",
              "<head>\n",
              "    <title>Restaurant Employees</title>\n",
              "</head>\n",
              "<body>\n",
              "    <table border=\"1\">\n",
              "        <tr>\n",
              "            <th>Name</th>\n",
              "            <th>Email</th>\n",
              "        </tr>\n",
              "        <tr>\n",
              "            <td>Shyam</td>\n",
              "            <td>shyamjaiswal@gmail.com</td>\n",
              "        </tr>\n",
              "        <tr>\n",
              "            <td>Bob</td>\n",
              "            <td>bob32@gmail.com</td>\n",
              "        </tr>\n",
              "        <tr>\n",
              "            <td>Jai</td>\n",
              "            <td>jai87@gmail.com</td>\n",
              "        </tr>\n",
              "    </table>\n",
              "</body>\n",
              "</html>"
            ]
          },
          "metadata": {}
        }
      ]
    },
    {
      "cell_type": "code",
      "source": [],
      "metadata": {
        "id": "YxBWb3Rh4h-e"
      },
      "execution_count": null,
      "outputs": []
    },
    {
      "cell_type": "markdown",
      "source": [
        "Spellcheck/Grammar check.\n",
        "Here are some examples of common grammar and spelling problems and the LLM's response.\n",
        "\n",
        "To signal to the LLM that you want it to proofread your text, you instruct the model to 'proofread' or 'proofread and correct'."
      ],
      "metadata": {
        "id": "j6UNIHz04nFR"
      }
    },
    {
      "cell_type": "code",
      "source": [
        "text = [\n",
        "  \"The girl with the black and white puppies have a ball.\",  # The girl has a ball.\n",
        "  \"Yolanda has her notebook.\", # ok\n",
        "  \"Its going to be a long day. Does the car need it’s oil changed?\",  # Homonyms\n",
        "  \"Their goes my freedom. There going to bring they’re suitcases.\",  # Homonyms\n",
        "  \"Your going to need you’re notebook.\",  # Homonyms\n",
        "  \"That medicine effects my ability to sleep. Have you heard of the butterfly affect?\", # Homonyms\n",
        "  \"This phrase is to cherck chatGPT for speling abilitty\"  # spelling\n",
        "]\n",
        "for t in text:\n",
        "    prompt = f\"\"\"Proofread and correct the following text\n",
        "    and rewrite the corrected version. If you don't find\n",
        "    and errors, just say \"No errors found\". Don't use\n",
        "    any punctuation around the text:\n",
        "    ```{t}```\"\"\"\n",
        "    response = get_completion(prompt)\n",
        "    print(response)"
      ],
      "metadata": {
        "colab": {
          "base_uri": "https://localhost:8080/"
        },
        "id": "aGbTKSN_4nnJ",
        "outputId": "99363e6e-bd48-466a-87b9-9478d7ff2b40"
      },
      "execution_count": 54,
      "outputs": [
        {
          "output_type": "stream",
          "name": "stdout",
          "text": [
            "The girl with the black and white puppies has a ball.\n",
            "No errors found\n",
            "No errors found.\n",
            "Their goes my freedom. There going to bring they’re suitcases.\n",
            "\n",
            "No errors found.\n",
            "\n",
            "Rewritten:\n",
            "Their goes my freedom. There going to bring their suitcases.\n",
            "You're going to need your notebook.\n",
            "No errors found.\n",
            "No errors found\n"
          ]
        }
      ]
    },
    {
      "cell_type": "code",
      "source": [
        "text = [\n",
        "  \"The girl with the black and white puppies have a ball.\",  # The girl has a ball.\n",
        "  \"Yolanda has her notebook.\", # ok\n",
        "  \"Its going to be a long day. Does the car need it’s oil changed?\",  # Homonyms\n",
        "  \"Their goes my freedom. There going to bring they’re suitcases.\",  # Homonyms\n",
        "  \"Your going to need you’re notebook.\",  # Homonyms\n",
        "  \"That medicine effects my ability to sleep. Have you heard of the butterfly affect?\", # Homonyms\n",
        "  \"This phrase is to cherck chatGPT for speling abilitty\"  # spelling\n",
        "]"
      ],
      "metadata": {
        "id": "3G_nmIof4qrM"
      },
      "execution_count": 55,
      "outputs": []
    },
    {
      "cell_type": "code",
      "source": [
        "for t in text:\n",
        "  prompt = f\" profread correct and explan the error '''{t}'''\"\n",
        "  response = get_completion(prompt)\n",
        "  print(response)"
      ],
      "metadata": {
        "colab": {
          "base_uri": "https://localhost:8080/"
        },
        "id": "TIUid4sF4937",
        "outputId": "90928394-c034-414f-c6cb-fe79dc279f69"
      },
      "execution_count": 57,
      "outputs": [
        {
          "output_type": "stream",
          "name": "stdout",
          "text": [
            "The correct sentence is: \"The girl with the black and white puppies has a ball.\"\n",
            "\n",
            "The error in the original sentence is the subject-verb agreement. The subject \"girl\" is singular, so the verb should also be singular, which is \"has\" instead of \"have.\"\n",
            "The correct sentence is: \"Yolanda has her notebook.\"\n",
            "\n",
            "There is no error in this sentence. It is a simple statement indicating that Yolanda possesses her own notebook.\n",
            "\"Its going to be a long day. Does the car need it’s oil changed?\"\n",
            "\n",
            "The error in this sentence is the incorrect use of \"it's.\" \"It's\" is a contraction for \"it is\" or \"it has,\" while \"its\" is a possessive pronoun. The correct sentence should be: \"It's going to be a long day. Does the car need its oil changed?\"\n",
            "Corrected sentence: \"There goes my freedom. They're going to bring their suitcases.\"\n",
            "\n",
            "Explanation: \n",
            "1. \"Their\" is a possessive pronoun used to show ownership. \n",
            "2. \"There\" is used to indicate a place or location. \n",
            "3. \"They're\" is a contraction of \"they are.\" \n",
            "4. In the original sentence, \"their\" should be used before \"suitcases\" to show possession, and \"they're\" should be used before \"going\" to indicate that they are going to bring their suitcases.\n",
            "Corrected: \"You're going to need your notebook.\"\n",
            "\n",
            "Explanation: The error in the original sentence is the incorrect use of \"your\" instead of \"you're.\" \"Your\" is a possessive pronoun, indicating ownership, while \"you're\" is a contraction of \"you are.\" In this context, the correct word to use is \"you're\" to indicate that the person will need their notebook.\n",
            "Corrected: \"That medicine affects my ability to sleep. Have you heard of the butterfly effect?\"\n",
            "\n",
            "Explanation: \n",
            "1. \"Effects\" should be changed to \"affects\" as it is the correct verb to use in this context. \"Affects\" is used when something has an impact on something else, while \"effects\" is used as a noun to refer to the result of an action.\n",
            "2. \"Affect\" in the second sentence should be changed to \"effect.\" The correct term is \"butterfly effect,\" which refers to the concept that small actions can have far-reaching consequences.\n",
            "This phrase is to check ChatGPT for spelling ability.\n",
            "\n",
            "The error in the original sentence is the misspelling of \"check\" as \"cherck\" and \"spelling\" as \"speling.\" Additionally, \"abilitty\" should be spelled as \"ability.\"\n"
          ]
        }
      ]
    },
    {
      "cell_type": "code",
      "source": [
        "text = f\"\"\"\n",
        "Got this for my daughter for her birthday cuz she keeps taking \\\n",
        "mine from my room.  Yes, adults al like pandas too.  She takes \\\n",
        "it everywhere with her, and it's super sft and cute.  One of the \\\n",
        "ears is a bit lower tn the other, and I don't think that was \\\n",
        "designed to be asymmetrical. It's a bit small for what I paid for it \\\n",
        "though. I think there might be other options that are bigger for \\\n",
        "the same price.  It arrived a day earlier than expected, so I got \\\n",
        "to play with it myself before I gave it to my daughter.\n",
        "\"\"\"\n",
        "prompt = f\"correct this review and make it shorter: ```{text}```\"\n",
        "response = get_completion(prompt)\n",
        "print(response)"
      ],
      "metadata": {
        "colab": {
          "base_uri": "https://localhost:8080/"
        },
        "id": "txWHFKMG5fan",
        "outputId": "36351b28-60cf-43f5-d0a3-a3e5d1fb72b3"
      },
      "execution_count": 70,
      "outputs": [
        {
          "output_type": "stream",
          "name": "stdout",
          "text": [
            "I bought this panda plush for my daughter's birthday because she kept taking mine. Adults like pandas too! It's soft, cute, and she takes it everywhere. One ear is lower than the other, which seems unintentional. It's a bit small for the price, but arrived a day early.\n"
          ]
        }
      ]
    },
    {
      "cell_type": "code",
      "source": [
        "from redlines import Redlines\n",
        "\n",
        "diff = Redlines(text,response)\n",
        "display(Markdown(diff.output_markdown))"
      ],
      "metadata": {
        "colab": {
          "base_uri": "https://localhost:8080/",
          "height": 98
        },
        "id": "hJH_pEDC52K7",
        "outputId": "ac011aa0-b891-4692-8b77-acdef1f98467"
      },
      "execution_count": 71,
      "outputs": [
        {
          "output_type": "display_data",
          "data": {
            "text/plain": [
              "<IPython.core.display.Markdown object>"
            ],
            "text/markdown": "<span style='color:red;font-weight:700;text-decoration:line-through;'>Got </span><span style='color:green;font-weight:700;'>I bought </span>this <span style='color:green;font-weight:700;'>panda plush </span>for my <span style='color:red;font-weight:700;text-decoration:line-through;'>daughter for her </span><span style='color:green;font-weight:700;'>daughter's </span>birthday <span style='color:red;font-weight:700;text-decoration:line-through;'>cuz </span><span style='color:green;font-weight:700;'>because </span>she <span style='color:red;font-weight:700;text-decoration:line-through;'>keeps </span><span style='color:green;font-weight:700;'>kept </span>taking <span style='color:red;font-weight:700;text-decoration:line-through;'>mine from my room.  Yes, adults al </span><span style='color:green;font-weight:700;'>mine. Adults </span>like pandas <span style='color:red;font-weight:700;text-decoration:line-through;'>too.  She </span><span style='color:green;font-weight:700;'>too! It's soft, cute, and she </span>takes it <span style='color:red;font-weight:700;text-decoration:line-through;'>everywhere with her, and it's super sft and cute.  </span><span style='color:green;font-weight:700;'>everywhere. </span>One <span style='color:red;font-weight:700;text-decoration:line-through;'>of the ears </span><span style='color:green;font-weight:700;'>ear </span>is <span style='color:red;font-weight:700;text-decoration:line-through;'>a bit </span>lower <span style='color:red;font-weight:700;text-decoration:line-through;'>tn </span><span style='color:green;font-weight:700;'>than </span>the other, <span style='color:red;font-weight:700;text-decoration:line-through;'>and I don't think that was designed to be asymmetrical. </span><span style='color:green;font-weight:700;'>which seems unintentional. </span>It's a bit small for <span style='color:red;font-weight:700;text-decoration:line-through;'>what I paid for it though. I think there might be other options that are bigger for </span>the <span style='color:red;font-weight:700;text-decoration:line-through;'>same price.  It </span><span style='color:green;font-weight:700;'>price, but </span>arrived a day <span style='color:red;font-weight:700;text-decoration:line-through;'>earlier than expected, so I got to play with it myself before I gave it to my daughter.</span><span style='color:green;font-weight:700;'>early.</span>"
          },
          "metadata": {}
        }
      ]
    },
    {
      "cell_type": "code",
      "source": [
        "prompt = f\"\"\"\n",
        "proofread and correct this review. Make it more compelling and longer.\n",
        "Ensure it follows APA style guide and targets an advanced reader.\n",
        "Output in markdown format.\n",
        "Text: ```{text}```\n",
        "\"\"\"\n",
        "response = get_completion(prompt)\n",
        "display(Markdown(response))"
      ],
      "metadata": {
        "colab": {
          "base_uri": "https://localhost:8080/",
          "height": 197
        },
        "id": "o9VWugu-6QLA",
        "outputId": "ee3b76cf-2fd6-49de-a341-c52dd4356f15"
      },
      "execution_count": 73,
      "outputs": [
        {
          "output_type": "display_data",
          "data": {
            "text/plain": [
              "<IPython.core.display.Markdown object>"
            ],
            "text/markdown": "I purchased this adorable panda plush toy for my daughter's birthday, as she kept taking mine from my room. Surprisingly, adults also appreciate the charm of pandas. My daughter absolutely adores this plush toy and takes it everywhere with her. The material is incredibly soft and the design is undeniably cute. However, upon closer inspection, I noticed that one of the ears is slightly lower than the other, which seems to be a manufacturing flaw rather than intentional asymmetry.\n\nWhile I am pleased with the quality and overall design of the plush toy, I must admit that I found it to be a bit smaller than expected given the price point. I believe there may be larger options available for the same price. Despite this minor setback, I was pleasantly surprised when the item arrived a day earlier than anticipated. This allowed me to enjoy playing with the plush toy myself before presenting it to my daughter.\n\nIn conclusion, while I have some reservations about the size and minor design flaw, I am overall satisfied with the purchase. The early delivery was a pleasant surprise and the softness and cuteness of the plush toy make it a worthwhile addition to my daughter's collection. I would recommend exploring other size options before making a final decision, but I can confidently say that this panda plush toy has brought joy to both my daughter and myself."
          },
          "metadata": {}
        }
      ]
    },
    {
      "cell_type": "code",
      "source": [],
      "metadata": {
        "id": "6Em69YNx6z6m"
      },
      "execution_count": null,
      "outputs": []
    }
  ]
}